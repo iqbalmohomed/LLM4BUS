{
  "nbformat": 4,
  "nbformat_minor": 0,
  "metadata": {
    "colab": {
      "provenance": [],
      "authorship_tag": "ABX9TyM7fzqNOActCo80gms2HS+I",
      "include_colab_link": true
    },
    "kernelspec": {
      "name": "python3",
      "display_name": "Python 3"
    },
    "language_info": {
      "name": "python"
    }
  },
  "cells": [
    {
      "cell_type": "markdown",
      "metadata": {
        "id": "view-in-github",
        "colab_type": "text"
      },
      "source": [
        "<a href=\"https://colab.research.google.com/github/iqbalmohomed/LLM4BUS/blob/main/LLMcourse_assn1.ipynb\" target=\"_parent\"><img src=\"https://colab.research.google.com/assets/colab-badge.svg\" alt=\"Open In Colab\"/></a>"
      ]
    },
    {
      "cell_type": "code",
      "execution_count": null,
      "metadata": {
        "colab": {
          "base_uri": "https://localhost:8080/"
        },
        "id": "6bWn7o8t8Rxv",
        "outputId": "67e55df7-308d-4681-f175-6539269478f2"
      },
      "outputs": [
        {
          "output_type": "stream",
          "name": "stdout",
          "text": [
            "Collecting openai\n",
            "  Downloading openai-1.11.1-py3-none-any.whl (226 kB)\n",
            "\u001b[2K     \u001b[90m━━━━━━━━━━━━━━━━━━━━━━━━━━━━━━━━━━━━━━━━\u001b[0m \u001b[32m226.1/226.1 kB\u001b[0m \u001b[31m5.3 MB/s\u001b[0m eta \u001b[36m0:00:00\u001b[0m\n",
            "\u001b[?25hRequirement already satisfied: anyio<5,>=3.5.0 in /usr/local/lib/python3.10/dist-packages (from openai) (3.7.1)\n",
            "Requirement already satisfied: distro<2,>=1.7.0 in /usr/lib/python3/dist-packages (from openai) (1.7.0)\n",
            "Collecting httpx<1,>=0.23.0 (from openai)\n",
            "  Downloading httpx-0.26.0-py3-none-any.whl (75 kB)\n",
            "\u001b[2K     \u001b[90m━━━━━━━━━━━━━━━━━━━━━━━━━━━━━━━━━━━━━━━━\u001b[0m \u001b[32m75.9/75.9 kB\u001b[0m \u001b[31m8.6 MB/s\u001b[0m eta \u001b[36m0:00:00\u001b[0m\n",
            "\u001b[?25hRequirement already satisfied: pydantic<3,>=1.9.0 in /usr/local/lib/python3.10/dist-packages (from openai) (1.10.14)\n",
            "Requirement already satisfied: sniffio in /usr/local/lib/python3.10/dist-packages (from openai) (1.3.0)\n",
            "Requirement already satisfied: tqdm>4 in /usr/local/lib/python3.10/dist-packages (from openai) (4.66.1)\n",
            "Collecting typing-extensions<5,>=4.7 (from openai)\n",
            "  Downloading typing_extensions-4.9.0-py3-none-any.whl (32 kB)\n",
            "Requirement already satisfied: idna>=2.8 in /usr/local/lib/python3.10/dist-packages (from anyio<5,>=3.5.0->openai) (3.6)\n",
            "Requirement already satisfied: exceptiongroup in /usr/local/lib/python3.10/dist-packages (from anyio<5,>=3.5.0->openai) (1.2.0)\n",
            "Requirement already satisfied: certifi in /usr/local/lib/python3.10/dist-packages (from httpx<1,>=0.23.0->openai) (2023.11.17)\n",
            "Collecting httpcore==1.* (from httpx<1,>=0.23.0->openai)\n",
            "  Downloading httpcore-1.0.2-py3-none-any.whl (76 kB)\n",
            "\u001b[2K     \u001b[90m━━━━━━━━━━━━━━━━━━━━━━━━━━━━━━━━━━━━━━━━\u001b[0m \u001b[32m76.9/76.9 kB\u001b[0m \u001b[31m8.6 MB/s\u001b[0m eta \u001b[36m0:00:00\u001b[0m\n",
            "\u001b[?25hCollecting h11<0.15,>=0.13 (from httpcore==1.*->httpx<1,>=0.23.0->openai)\n",
            "  Downloading h11-0.14.0-py3-none-any.whl (58 kB)\n",
            "\u001b[2K     \u001b[90m━━━━━━━━━━━━━━━━━━━━━━━━━━━━━━━━━━━━━━━━\u001b[0m \u001b[32m58.3/58.3 kB\u001b[0m \u001b[31m6.0 MB/s\u001b[0m eta \u001b[36m0:00:00\u001b[0m\n",
            "\u001b[?25hInstalling collected packages: typing-extensions, h11, httpcore, httpx, openai\n",
            "  Attempting uninstall: typing-extensions\n",
            "    Found existing installation: typing_extensions 4.5.0\n",
            "    Uninstalling typing_extensions-4.5.0:\n",
            "      Successfully uninstalled typing_extensions-4.5.0\n",
            "\u001b[31mERROR: pip's dependency resolver does not currently take into account all the packages that are installed. This behaviour is the source of the following dependency conflicts.\n",
            "llmx 0.0.15a0 requires cohere, which is not installed.\n",
            "llmx 0.0.15a0 requires tiktoken, which is not installed.\n",
            "tensorflow-probability 0.22.0 requires typing-extensions<4.6.0, but you have typing-extensions 4.9.0 which is incompatible.\u001b[0m\u001b[31m\n",
            "\u001b[0mSuccessfully installed h11-0.14.0 httpcore-1.0.2 httpx-0.26.0 openai-1.11.1 typing-extensions-4.9.0\n"
          ]
        }
      ],
      "source": [
        "!pip install openai"
      ]
    },
    {
      "cell_type": "code",
      "source": [],
      "metadata": {
        "id": "apaufYxf8Uhn"
      },
      "execution_count": null,
      "outputs": []
    },
    {
      "cell_type": "code",
      "source": [
        "from google.colab import userdata\n",
        "api_key = userdata.get('open_ai_key')\n"
      ],
      "metadata": {
        "id": "yXdcxZqJ2zR2"
      },
      "execution_count": null,
      "outputs": []
    },
    {
      "cell_type": "code",
      "source": [
        "from openai import OpenAI\n",
        "client = OpenAI(api_key=api_key)"
      ],
      "metadata": {
        "id": "8SJeLVJi891w"
      },
      "execution_count": null,
      "outputs": []
    },
    {
      "cell_type": "code",
      "source": [
        "def chat(message):\n",
        "    \"\"\"\n",
        "    Send a message to the OpenAI GPT-3.5 model and return its response.\n",
        "\n",
        "    This function interacts with the OpenAI API, specifically using the GPT-3.5-turbo model. It takes a user's message as input, sends it to the model, and returns the model's text-only response. The function ensures the AI's output is concise by providing a system-level instruction.\n",
        "\n",
        "    Parameters:\n",
        "    message (str): A string containing the user's message to the AI.\n",
        "\n",
        "    Returns:\n",
        "    str: The text response generated by the GPT-3.5 model.\n",
        "    \"\"\"\n",
        "\n",
        "    response = client.chat.completions.create(\n",
        "        model=\"gpt-3.5-turbo\",\n",
        "        # response_format={ \"type\": \"json_object\" },\n",
        "        messages=[\n",
        "            {\"role\": \"system\", \"content\": \"You are an AI that takes instructions from a human and produces an answer. Be concise in your output.\"},\n",
        "            {\"role\": \"user\", \"content\": f\"{message}\"}\n",
        "        ]\n",
        "    )\n",
        "\n",
        "    text_only = response.choices[0].message.content\n",
        "    return text_only\n"
      ],
      "metadata": {
        "id": "NfRaLwCuB8OW"
      },
      "execution_count": null,
      "outputs": []
    },
    {
      "cell_type": "code",
      "source": [
        "research_notes= \"\"\"\n",
        "Pioneers have been an integral part of the community. They have contributed to the community with their natural methods of treating diseases, through farming, logging, and working with different tools to make household items. Pioneers health and medicine was very different from present day. Pioneers did not have medicines and treatments that we have today. Have you ever wondered what health difficulties pioneers faced? Well you are going to find out now. Pioneers were farmers, loggers, blacksmith and storekeepers. They were at a higher risk of infections and accidents. The health difficulties the pioneers had were limited medicines and they did not have any doctors or hospitals. Pioneers did not have resources to cure some diseases and salespersons went from village to village to collect and give medicines. Pioneers did not have antibiotics and faced major illnesses or death due to frostbite, food poisoning, smallpox, cholera, and measles. Today, we know germs cause diseases, but the pioneers had different beliefs. One of the pioneer’s beliefs was that bathing would remove natural things that protect them from diseases. They also believed that diseases started from bad “humor”. This means they thought that evil spirits, bad air, or anything negative could get into the body and cause illness. Do you know how health problems are cured in the pioneer time? Now let’s talk about some ways pioneers treated diseases. How pioneers made an impact on peoples health and well being with their natural remedies. The pioneers treated diseases using natural and herbal remedies. Despite of the herbal and natural remedies the pioneers did not have the treatment and medicine to save the child and mother during the birth of the baby. Even natural remedies could not help with broken bones, gun shot wounds, snakebites, and major internal injuries such as appendicitis and tuberculosis, which were common in pioneer days. The medicines the pioneers made were nature-based and some of the concoctions were toxic due to opium, mercury, cocaine, and alcohol. The natural method involves draining the blood and pulling out teeth by the local barber. Have you ever wondered why a barber’s pole is red and white? It is because red and white identifies blood and bandages. They drained the blood by using leeches to suck the infected blood. Does anyone know how to remove a leech? You can remove a leech by putting salt on the leech and they slip of your body. When you are taking out the leech you do not pull them off otherwise the leeches will suck harder. The herbal remedies are made of natural resources such as plants and trees. Examples are sage is used to cure anxiety and depression by smudging on all your senses. Sitka spruce tree leaf tea is used to avoid infections, pitch is a strong healer, devils club is a tree leaf that is used to treat gout and reduces sugar level in the body for diabetic’s patients. Herbs and leaves are crushed and applied to wounds and chest to take out the diseases. The aboriginal people taught the pioneers to treat stiff joints and upset stomach using crushed dandelion roots. Roasting onions and squeezing its juice was used to cure common cold. Rubbing garlic and clove to treat tooth pain. For asthma, drink tar water, seawater and mercury water. Pioneers used ginger, cayenne pepper, vinegar, camphor, rhubarb roots and salt for bruises and sprains. Some of the natural and herbal remedies were sent to the local apothecary so he could create medicines specific to the illness. Does anyone know what is a apothecary? It is a pharmacy. The pioneers treat diseases using healing circles, sweat lodges, pipe ceremony and medicine wheel. The medicine wheel consists of the color’s red, black, yellow and white. Here’s a fun fact about the medicine wheel. The circle influences how the pioneers view the world, pioneers believe that the world goes in a circular fashion life and there is continuous interaction between the physical, emotional, mental and spiritual realities. After, time went by and doctors were sent to Canada to help sick and injured soldiers living in villages. Canada’s first Doctor, Dr. Robert Gifford, arrived in 1627. Doctors treat pioneers at his house or he would go to the patient’s house if patient were too weak to move. The doctors mixed and crushed medicine by themselves. The medicine was given as tea or a paste to spread on the patient’s skin. Often times pioneers were very poor so they paid the doctor with a meal or resources, some examples are eggs and milk. If you compare life today versus pioneer time you will see a big advancement in the medical equipment, technologies and methods of treating diseases. Thank you friends for listening to my presentation and I hope you learnt a lot about pioneer health and medicine.\n",
        "\"\"\""
      ],
      "metadata": {
        "id": "F8l2FoyU9pYX"
      },
      "execution_count": null,
      "outputs": []
    },
    {
      "cell_type": "code",
      "source": [
        "result_text  = chat(\"Please take the following research notes and come up with 6 categories to organize them: \" + research_notes)"
      ],
      "metadata": {
        "id": "27LhgCvK-PAg"
      },
      "execution_count": null,
      "outputs": []
    },
    {
      "cell_type": "code",
      "source": [
        "print(result_text)"
      ],
      "metadata": {
        "colab": {
          "base_uri": "https://localhost:8080/"
        },
        "id": "nNraR8hn-tzs",
        "outputId": "988411dd-55a3-4e1d-b0c4-a173289fbbd7"
      },
      "execution_count": null,
      "outputs": [
        {
          "output_type": "stream",
          "name": "stdout",
          "text": [
            "Categories for organizing the research notes:\n",
            "1. Pioneers' health challenges and risks\n",
            "2. Lack of medical resources and treatments\n",
            "3. Pioneers' beliefs and understanding of diseases\n",
            "4. Natural and herbal remedies used by pioneers\n",
            "5. Medical practices and treatments during pioneer time (e.g. bloodletting)\n",
            "6. Advancements in medical equipment and treatments compared to pioneer era.\n"
          ]
        }
      ]
    },
    {
      "cell_type": "code",
      "source": [
        "result_text2  = chat(\"Please take the following research notes and come up with 4 categories to organize them: \" + research_notes)"
      ],
      "metadata": {
        "id": "LQDVJbmb-7Z_"
      },
      "execution_count": null,
      "outputs": []
    },
    {
      "cell_type": "code",
      "source": [
        "print(result_text2)"
      ],
      "metadata": {
        "colab": {
          "base_uri": "https://localhost:8080/"
        },
        "id": "aBS49YyQADJT",
        "outputId": "2c22e1b4-65c9-43e8-be96-1c77c0bc293b"
      },
      "execution_count": null,
      "outputs": [
        {
          "output_type": "stream",
          "name": "stdout",
          "text": [
            "Based on the research notes, here are four categories to organize them:\n",
            "\n",
            "1. Pioneers' health difficulties:\n",
            "- Limited medicines and lack of doctors or hospitals\n",
            "- Higher risk of infections and accidents\n",
            "- Major illnesses and deaths from diseases like frostbite, food poisoning, smallpox, cholera, and measles\n",
            "\n",
            "2. Pioneers' beliefs and remedies:\n",
            "- Beliefs about diseases stemming from bad \"humor\" and the importance of natural protection\n",
            "- Use of natural and herbal remedies, but limited effectiveness for certain conditions like broken bones and major injuries\n",
            "- Toxicity in some remedies due to opium, mercury, cocaine, and alcohol\n",
            "\n",
            "3. Treatment methods and practices:\n",
            "- Bloodletting and tooth extraction by the local barber\n",
            "- Use of leeches for blood drainage\n",
            "- Herbal remedies made from plants and trees, including their applications for wounds and chest ailments\n",
            "\n",
            "4. Advancements over time:\n",
            "- Introduction of doctors in pioneer communities, starting in 1627 with Dr. Robert Gifford\n",
            "- Medical treatment at the doctor's house or at the patient's home\n",
            "- Evolution of medical equipment, technologies, and treatment methods in modern times\n",
            "\n",
            "Please note that the categories are based on the content of the research notes and may not cover every aspect of pioneer health and medicine.\n"
          ]
        }
      ]
    },
    {
      "cell_type": "code",
      "source": [
        "### Extra credit ###\n",
        "result_text23 = chat(\"Please take the following research notes and concisely come up with 4 categories to organize them: \" + research_notes)"
      ],
      "metadata": {
        "id": "IlIleLD7AGwV"
      },
      "execution_count": null,
      "outputs": []
    },
    {
      "cell_type": "code",
      "source": [
        "print(result_text23)"
      ],
      "metadata": {
        "colab": {
          "base_uri": "https://localhost:8080/"
        },
        "id": "tDeJuE85BVJ4",
        "outputId": "1d20e517-2ed4-41d7-ed1f-d1870ce12e44"
      },
      "execution_count": null,
      "outputs": [
        {
          "output_type": "stream",
          "name": "stdout",
          "text": [
            "Based on the research notes, here are four categories to organize the information:\n",
            "\n",
            "1. Pioneer Health Difficulties: Limited medicines, lack of doctors and hospitals, higher risk of infections and accidents, major illnesses (frostbite, food poisoning, smallpox, cholera, measles)\n",
            "\n",
            "2. Pioneer Beliefs and Remedies: Beliefs about the causes of diseases, natural and herbal remedies (sage, Sitka spruce, pitch, devil's club, dandelion roots, onion juice, garlic and clove), use of leeches for blood draining\n",
            "\n",
            "3. Treatment Challenges: Inability to save lives during childbirth, lack of effective treatments for broken bones, gunshot wounds, snakebites, and internal injuries (appendicitis, tuberculosis), toxic nature of some remedies (opium, mercury, cocaine, alcohol)\n",
            "\n",
            "4. Medical Advancements: Arrival of doctors in Canada, treatment methods (tea, skin paste), payment with resources (eggs, milk), comparison of medical advancements between pioneer time and today\n"
          ]
        }
      ]
    },
    {
      "cell_type": "code",
      "source": [
        "chat(\"You are a grade 3 teacher. Compare the following two documents that are delinead with a *. Which would get a higer grade? * \" + result_text2 + \"* \" + result_text23)"
      ],
      "metadata": {
        "colab": {
          "base_uri": "https://localhost:8080/",
          "height": 35
        },
        "id": "3sn7FzJrB2Y9",
        "outputId": "22ea081c-bfab-41b0-a95d-5e1f4d55b12f"
      },
      "execution_count": null,
      "outputs": [
        {
          "output_type": "execute_result",
          "data": {
            "text/plain": [
              "'Document 2 would receive a higher grade as it provides a more concise and organized categorization of the information.'"
            ],
            "application/vnd.google.colaboratory.intrinsic+json": {
              "type": "string"
            }
          },
          "metadata": {},
          "execution_count": 24
        }
      ]
    },
    {
      "cell_type": "code",
      "source": [
        "chat(\"You are a grade 3 teacher who is focused on grammatical correctness. Compare the following two documents that are delinead with a *. Which would get a higer grade? * \" + result_text2 + \"* \" + result_text23)"
      ],
      "metadata": {
        "colab": {
          "base_uri": "https://localhost:8080/",
          "height": 52
        },
        "id": "CHgF2pNFBYET",
        "outputId": "847f8a84-6ea1-4eb4-9afd-170ed3fa4839"
      },
      "execution_count": null,
      "outputs": [
        {
          "output_type": "execute_result",
          "data": {
            "text/plain": [
              "'It is difficult to determine which document would receive a higher grade without knowing the specific grading criteria. Both documents organize the information effectively into four categories, but the second document provides more specific details about the pioneer beliefs and remedies, treatment challenges, and medical advancements.'"
            ],
            "application/vnd.google.colaboratory.intrinsic+json": {
              "type": "string"
            }
          },
          "metadata": {},
          "execution_count": 25
        }
      ]
    },
    {
      "cell_type": "code",
      "source": [
        "chat(\"You are a grade 3 teacher who is mainly concerned with the amount of text the students write. Compare the following two documents that are delinead with a *. Which would get a higer grade? * \" + result_text2 + \"* \" + result_text23)"
      ],
      "metadata": {
        "colab": {
          "base_uri": "https://localhost:8080/",
          "height": 35
        },
        "id": "HWQUEK5zCcvT",
        "outputId": "dfb447f0-af3f-40b6-afb9-8b9d3f23e37f"
      },
      "execution_count": null,
      "outputs": [
        {
          "output_type": "execute_result",
          "data": {
            "text/plain": [
              "'The first document would likely receive a higher grade because it provides more detailed information and organizes it into clear categories.'"
            ],
            "application/vnd.google.colaboratory.intrinsic+json": {
              "type": "string"
            }
          },
          "metadata": {},
          "execution_count": 26
        }
      ]
    },
    {
      "cell_type": "code",
      "source": [],
      "metadata": {
        "id": "7RUbcnhyC8TM"
      },
      "execution_count": null,
      "outputs": []
    }
  ]
}