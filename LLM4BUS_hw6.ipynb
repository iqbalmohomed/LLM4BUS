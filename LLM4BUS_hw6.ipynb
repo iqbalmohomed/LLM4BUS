{
  "nbformat": 4,
  "nbformat_minor": 0,
  "metadata": {
    "colab": {
      "provenance": [],
      "authorship_tag": "ABX9TyPhwv0U3QgzYG3YETxIrkMo",
      "include_colab_link": true
    },
    "kernelspec": {
      "name": "python3",
      "display_name": "Python 3"
    },
    "language_info": {
      "name": "python"
    }
  },
  "cells": [
    {
      "cell_type": "markdown",
      "metadata": {
        "id": "view-in-github",
        "colab_type": "text"
      },
      "source": [
        "<a href=\"https://colab.research.google.com/github/iqbalmohomed/LLM4BUS/blob/main/LLM4BUS_hw6.ipynb\" target=\"_parent\"><img src=\"https://colab.research.google.com/assets/colab-badge.svg\" alt=\"Open In Colab\"/></a>"
      ]
    },
    {
      "cell_type": "code",
      "execution_count": 1,
      "metadata": {
        "colab": {
          "base_uri": "https://localhost:8080/"
        },
        "id": "5ZbgDKT2hQWp",
        "outputId": "0e3dd665-ae1d-4403-ebb7-db0cd32ef0e1"
      },
      "outputs": [
        {
          "output_type": "stream",
          "name": "stdout",
          "text": [
            "Collecting langchain\n",
            "  Downloading langchain-0.1.11-py3-none-any.whl (807 kB)\n",
            "\u001b[2K     \u001b[90m━━━━━━━━━━━━━━━━━━━━━━━━━━━━━━━━━━━━━━━━\u001b[0m \u001b[32m807.5/807.5 kB\u001b[0m \u001b[31m5.2 MB/s\u001b[0m eta \u001b[36m0:00:00\u001b[0m\n",
            "\u001b[?25hRequirement already satisfied: PyYAML>=5.3 in /usr/local/lib/python3.10/dist-packages (from langchain) (6.0.1)\n",
            "Requirement already satisfied: SQLAlchemy<3,>=1.4 in /usr/local/lib/python3.10/dist-packages (from langchain) (2.0.28)\n",
            "Requirement already satisfied: aiohttp<4.0.0,>=3.8.3 in /usr/local/lib/python3.10/dist-packages (from langchain) (3.9.3)\n",
            "Requirement already satisfied: async-timeout<5.0.0,>=4.0.0 in /usr/local/lib/python3.10/dist-packages (from langchain) (4.0.3)\n",
            "Collecting dataclasses-json<0.7,>=0.5.7 (from langchain)\n",
            "  Downloading dataclasses_json-0.6.4-py3-none-any.whl (28 kB)\n",
            "Collecting jsonpatch<2.0,>=1.33 (from langchain)\n",
            "  Downloading jsonpatch-1.33-py2.py3-none-any.whl (12 kB)\n",
            "Collecting langchain-community<0.1,>=0.0.25 (from langchain)\n",
            "  Downloading langchain_community-0.0.27-py3-none-any.whl (1.8 MB)\n",
            "\u001b[2K     \u001b[90m━━━━━━━━━━━━━━━━━━━━━━━━━━━━━━━━━━━━━━━━\u001b[0m \u001b[32m1.8/1.8 MB\u001b[0m \u001b[31m9.2 MB/s\u001b[0m eta \u001b[36m0:00:00\u001b[0m\n",
            "\u001b[?25hCollecting langchain-core<0.2,>=0.1.29 (from langchain)\n",
            "  Downloading langchain_core-0.1.30-py3-none-any.whl (256 kB)\n",
            "\u001b[2K     \u001b[90m━━━━━━━━━━━━━━━━━━━━━━━━━━━━━━━━━━━━━━━━\u001b[0m \u001b[32m256.9/256.9 kB\u001b[0m \u001b[31m9.4 MB/s\u001b[0m eta \u001b[36m0:00:00\u001b[0m\n",
            "\u001b[?25hCollecting langchain-text-splitters<0.1,>=0.0.1 (from langchain)\n",
            "  Downloading langchain_text_splitters-0.0.1-py3-none-any.whl (21 kB)\n",
            "Collecting langsmith<0.2.0,>=0.1.17 (from langchain)\n",
            "  Downloading langsmith-0.1.23-py3-none-any.whl (66 kB)\n",
            "\u001b[2K     \u001b[90m━━━━━━━━━━━━━━━━━━━━━━━━━━━━━━━━━━━━━━━━\u001b[0m \u001b[32m66.6/66.6 kB\u001b[0m \u001b[31m5.8 MB/s\u001b[0m eta \u001b[36m0:00:00\u001b[0m\n",
            "\u001b[?25hRequirement already satisfied: numpy<2,>=1 in /usr/local/lib/python3.10/dist-packages (from langchain) (1.25.2)\n",
            "Requirement already satisfied: pydantic<3,>=1 in /usr/local/lib/python3.10/dist-packages (from langchain) (2.6.3)\n",
            "Requirement already satisfied: requests<3,>=2 in /usr/local/lib/python3.10/dist-packages (from langchain) (2.31.0)\n",
            "Requirement already satisfied: tenacity<9.0.0,>=8.1.0 in /usr/local/lib/python3.10/dist-packages (from langchain) (8.2.3)\n",
            "Requirement already satisfied: aiosignal>=1.1.2 in /usr/local/lib/python3.10/dist-packages (from aiohttp<4.0.0,>=3.8.3->langchain) (1.3.1)\n",
            "Requirement already satisfied: attrs>=17.3.0 in /usr/local/lib/python3.10/dist-packages (from aiohttp<4.0.0,>=3.8.3->langchain) (23.2.0)\n",
            "Requirement already satisfied: frozenlist>=1.1.1 in /usr/local/lib/python3.10/dist-packages (from aiohttp<4.0.0,>=3.8.3->langchain) (1.4.1)\n",
            "Requirement already satisfied: multidict<7.0,>=4.5 in /usr/local/lib/python3.10/dist-packages (from aiohttp<4.0.0,>=3.8.3->langchain) (6.0.5)\n",
            "Requirement already satisfied: yarl<2.0,>=1.0 in /usr/local/lib/python3.10/dist-packages (from aiohttp<4.0.0,>=3.8.3->langchain) (1.9.4)\n",
            "Collecting marshmallow<4.0.0,>=3.18.0 (from dataclasses-json<0.7,>=0.5.7->langchain)\n",
            "  Downloading marshmallow-3.21.1-py3-none-any.whl (49 kB)\n",
            "\u001b[2K     \u001b[90m━━━━━━━━━━━━━━━━━━━━━━━━━━━━━━━━━━━━━━━━\u001b[0m \u001b[32m49.4/49.4 kB\u001b[0m \u001b[31m2.3 MB/s\u001b[0m eta \u001b[36m0:00:00\u001b[0m\n",
            "\u001b[?25hCollecting typing-inspect<1,>=0.4.0 (from dataclasses-json<0.7,>=0.5.7->langchain)\n",
            "  Downloading typing_inspect-0.9.0-py3-none-any.whl (8.8 kB)\n",
            "Collecting jsonpointer>=1.9 (from jsonpatch<2.0,>=1.33->langchain)\n",
            "  Downloading jsonpointer-2.4-py2.py3-none-any.whl (7.8 kB)\n",
            "Requirement already satisfied: anyio<5,>=3 in /usr/local/lib/python3.10/dist-packages (from langchain-core<0.2,>=0.1.29->langchain) (3.7.1)\n",
            "Requirement already satisfied: packaging<24.0,>=23.2 in /usr/local/lib/python3.10/dist-packages (from langchain-core<0.2,>=0.1.29->langchain) (23.2)\n",
            "Collecting orjson<4.0.0,>=3.9.14 (from langsmith<0.2.0,>=0.1.17->langchain)\n",
            "  Downloading orjson-3.9.15-cp310-cp310-manylinux_2_17_x86_64.manylinux2014_x86_64.whl (138 kB)\n",
            "\u001b[2K     \u001b[90m━━━━━━━━━━━━━━━━━━━━━━━━━━━━━━━━━━━━━━━━\u001b[0m \u001b[32m138.5/138.5 kB\u001b[0m \u001b[31m12.9 MB/s\u001b[0m eta \u001b[36m0:00:00\u001b[0m\n",
            "\u001b[?25hRequirement already satisfied: annotated-types>=0.4.0 in /usr/local/lib/python3.10/dist-packages (from pydantic<3,>=1->langchain) (0.6.0)\n",
            "Requirement already satisfied: pydantic-core==2.16.3 in /usr/local/lib/python3.10/dist-packages (from pydantic<3,>=1->langchain) (2.16.3)\n",
            "Requirement already satisfied: typing-extensions>=4.6.1 in /usr/local/lib/python3.10/dist-packages (from pydantic<3,>=1->langchain) (4.10.0)\n",
            "Requirement already satisfied: charset-normalizer<4,>=2 in /usr/local/lib/python3.10/dist-packages (from requests<3,>=2->langchain) (3.3.2)\n",
            "Requirement already satisfied: idna<4,>=2.5 in /usr/local/lib/python3.10/dist-packages (from requests<3,>=2->langchain) (3.6)\n",
            "Requirement already satisfied: urllib3<3,>=1.21.1 in /usr/local/lib/python3.10/dist-packages (from requests<3,>=2->langchain) (2.0.7)\n",
            "Requirement already satisfied: certifi>=2017.4.17 in /usr/local/lib/python3.10/dist-packages (from requests<3,>=2->langchain) (2024.2.2)\n",
            "Requirement already satisfied: greenlet!=0.4.17 in /usr/local/lib/python3.10/dist-packages (from SQLAlchemy<3,>=1.4->langchain) (3.0.3)\n",
            "Requirement already satisfied: sniffio>=1.1 in /usr/local/lib/python3.10/dist-packages (from anyio<5,>=3->langchain-core<0.2,>=0.1.29->langchain) (1.3.1)\n",
            "Requirement already satisfied: exceptiongroup in /usr/local/lib/python3.10/dist-packages (from anyio<5,>=3->langchain-core<0.2,>=0.1.29->langchain) (1.2.0)\n",
            "Collecting mypy-extensions>=0.3.0 (from typing-inspect<1,>=0.4.0->dataclasses-json<0.7,>=0.5.7->langchain)\n",
            "  Downloading mypy_extensions-1.0.0-py3-none-any.whl (4.7 kB)\n",
            "Installing collected packages: orjson, mypy-extensions, marshmallow, jsonpointer, typing-inspect, jsonpatch, langsmith, dataclasses-json, langchain-core, langchain-text-splitters, langchain-community, langchain\n",
            "Successfully installed dataclasses-json-0.6.4 jsonpatch-1.33 jsonpointer-2.4 langchain-0.1.11 langchain-community-0.0.27 langchain-core-0.1.30 langchain-text-splitters-0.0.1 langsmith-0.1.23 marshmallow-3.21.1 mypy-extensions-1.0.0 orjson-3.9.15 typing-inspect-0.9.0\n",
            "Requirement already satisfied: langchain-community in /usr/local/lib/python3.10/dist-packages (0.0.27)\n",
            "Requirement already satisfied: PyYAML>=5.3 in /usr/local/lib/python3.10/dist-packages (from langchain-community) (6.0.1)\n",
            "Requirement already satisfied: SQLAlchemy<3,>=1.4 in /usr/local/lib/python3.10/dist-packages (from langchain-community) (2.0.28)\n",
            "Requirement already satisfied: aiohttp<4.0.0,>=3.8.3 in /usr/local/lib/python3.10/dist-packages (from langchain-community) (3.9.3)\n",
            "Requirement already satisfied: dataclasses-json<0.7,>=0.5.7 in /usr/local/lib/python3.10/dist-packages (from langchain-community) (0.6.4)\n",
            "Requirement already satisfied: langchain-core<0.2.0,>=0.1.30 in /usr/local/lib/python3.10/dist-packages (from langchain-community) (0.1.30)\n",
            "Requirement already satisfied: langsmith<0.2.0,>=0.1.0 in /usr/local/lib/python3.10/dist-packages (from langchain-community) (0.1.23)\n",
            "Requirement already satisfied: numpy<2,>=1 in /usr/local/lib/python3.10/dist-packages (from langchain-community) (1.25.2)\n",
            "Requirement already satisfied: requests<3,>=2 in /usr/local/lib/python3.10/dist-packages (from langchain-community) (2.31.0)\n",
            "Requirement already satisfied: tenacity<9.0.0,>=8.1.0 in /usr/local/lib/python3.10/dist-packages (from langchain-community) (8.2.3)\n",
            "Requirement already satisfied: aiosignal>=1.1.2 in /usr/local/lib/python3.10/dist-packages (from aiohttp<4.0.0,>=3.8.3->langchain-community) (1.3.1)\n",
            "Requirement already satisfied: attrs>=17.3.0 in /usr/local/lib/python3.10/dist-packages (from aiohttp<4.0.0,>=3.8.3->langchain-community) (23.2.0)\n",
            "Requirement already satisfied: frozenlist>=1.1.1 in /usr/local/lib/python3.10/dist-packages (from aiohttp<4.0.0,>=3.8.3->langchain-community) (1.4.1)\n",
            "Requirement already satisfied: multidict<7.0,>=4.5 in /usr/local/lib/python3.10/dist-packages (from aiohttp<4.0.0,>=3.8.3->langchain-community) (6.0.5)\n",
            "Requirement already satisfied: yarl<2.0,>=1.0 in /usr/local/lib/python3.10/dist-packages (from aiohttp<4.0.0,>=3.8.3->langchain-community) (1.9.4)\n",
            "Requirement already satisfied: async-timeout<5.0,>=4.0 in /usr/local/lib/python3.10/dist-packages (from aiohttp<4.0.0,>=3.8.3->langchain-community) (4.0.3)\n",
            "Requirement already satisfied: marshmallow<4.0.0,>=3.18.0 in /usr/local/lib/python3.10/dist-packages (from dataclasses-json<0.7,>=0.5.7->langchain-community) (3.21.1)\n",
            "Requirement already satisfied: typing-inspect<1,>=0.4.0 in /usr/local/lib/python3.10/dist-packages (from dataclasses-json<0.7,>=0.5.7->langchain-community) (0.9.0)\n",
            "Requirement already satisfied: anyio<5,>=3 in /usr/local/lib/python3.10/dist-packages (from langchain-core<0.2.0,>=0.1.30->langchain-community) (3.7.1)\n",
            "Requirement already satisfied: jsonpatch<2.0,>=1.33 in /usr/local/lib/python3.10/dist-packages (from langchain-core<0.2.0,>=0.1.30->langchain-community) (1.33)\n",
            "Requirement already satisfied: packaging<24.0,>=23.2 in /usr/local/lib/python3.10/dist-packages (from langchain-core<0.2.0,>=0.1.30->langchain-community) (23.2)\n",
            "Requirement already satisfied: pydantic<3,>=1 in /usr/local/lib/python3.10/dist-packages (from langchain-core<0.2.0,>=0.1.30->langchain-community) (2.6.3)\n",
            "Requirement already satisfied: orjson<4.0.0,>=3.9.14 in /usr/local/lib/python3.10/dist-packages (from langsmith<0.2.0,>=0.1.0->langchain-community) (3.9.15)\n",
            "Requirement already satisfied: charset-normalizer<4,>=2 in /usr/local/lib/python3.10/dist-packages (from requests<3,>=2->langchain-community) (3.3.2)\n",
            "Requirement already satisfied: idna<4,>=2.5 in /usr/local/lib/python3.10/dist-packages (from requests<3,>=2->langchain-community) (3.6)\n",
            "Requirement already satisfied: urllib3<3,>=1.21.1 in /usr/local/lib/python3.10/dist-packages (from requests<3,>=2->langchain-community) (2.0.7)\n",
            "Requirement already satisfied: certifi>=2017.4.17 in /usr/local/lib/python3.10/dist-packages (from requests<3,>=2->langchain-community) (2024.2.2)\n",
            "Requirement already satisfied: typing-extensions>=4.6.0 in /usr/local/lib/python3.10/dist-packages (from SQLAlchemy<3,>=1.4->langchain-community) (4.10.0)\n",
            "Requirement already satisfied: greenlet!=0.4.17 in /usr/local/lib/python3.10/dist-packages (from SQLAlchemy<3,>=1.4->langchain-community) (3.0.3)\n",
            "Requirement already satisfied: sniffio>=1.1 in /usr/local/lib/python3.10/dist-packages (from anyio<5,>=3->langchain-core<0.2.0,>=0.1.30->langchain-community) (1.3.1)\n",
            "Requirement already satisfied: exceptiongroup in /usr/local/lib/python3.10/dist-packages (from anyio<5,>=3->langchain-core<0.2.0,>=0.1.30->langchain-community) (1.2.0)\n",
            "Requirement already satisfied: jsonpointer>=1.9 in /usr/local/lib/python3.10/dist-packages (from jsonpatch<2.0,>=1.33->langchain-core<0.2.0,>=0.1.30->langchain-community) (2.4)\n",
            "Requirement already satisfied: annotated-types>=0.4.0 in /usr/local/lib/python3.10/dist-packages (from pydantic<3,>=1->langchain-core<0.2.0,>=0.1.30->langchain-community) (0.6.0)\n",
            "Requirement already satisfied: pydantic-core==2.16.3 in /usr/local/lib/python3.10/dist-packages (from pydantic<3,>=1->langchain-core<0.2.0,>=0.1.30->langchain-community) (2.16.3)\n",
            "Requirement already satisfied: mypy-extensions>=0.3.0 in /usr/local/lib/python3.10/dist-packages (from typing-inspect<1,>=0.4.0->dataclasses-json<0.7,>=0.5.7->langchain-community) (1.0.0)\n",
            "Collecting cohere\n",
            "  Downloading cohere-4.53-py3-none-any.whl (52 kB)\n",
            "\u001b[2K     \u001b[90m━━━━━━━━━━━━━━━━━━━━━━━━━━━━━━━━━━━━━━━━\u001b[0m \u001b[32m52.8/52.8 kB\u001b[0m \u001b[31m1.8 MB/s\u001b[0m eta \u001b[36m0:00:00\u001b[0m\n",
            "\u001b[?25hRequirement already satisfied: aiohttp<4.0,>=3.0 in /usr/local/lib/python3.10/dist-packages (from cohere) (3.9.3)\n",
            "Collecting backoff<3.0,>=2.0 (from cohere)\n",
            "  Downloading backoff-2.2.1-py3-none-any.whl (15 kB)\n",
            "Collecting fastavro<2.0,>=1.8 (from cohere)\n",
            "  Downloading fastavro-1.9.4-cp310-cp310-manylinux_2_17_x86_64.manylinux2014_x86_64.whl (3.1 MB)\n",
            "\u001b[2K     \u001b[90m━━━━━━━━━━━━━━━━━━━━━━━━━━━━━━━━━━━━━━━━\u001b[0m \u001b[32m3.1/3.1 MB\u001b[0m \u001b[31m36.6 MB/s\u001b[0m eta \u001b[36m0:00:00\u001b[0m\n",
            "\u001b[?25hCollecting importlib_metadata<7.0,>=6.0 (from cohere)\n",
            "  Downloading importlib_metadata-6.11.0-py3-none-any.whl (23 kB)\n",
            "Requirement already satisfied: requests<3.0.0,>=2.25.0 in /usr/local/lib/python3.10/dist-packages (from cohere) (2.31.0)\n",
            "Requirement already satisfied: urllib3<3,>=1.26 in /usr/local/lib/python3.10/dist-packages (from cohere) (2.0.7)\n",
            "Requirement already satisfied: aiosignal>=1.1.2 in /usr/local/lib/python3.10/dist-packages (from aiohttp<4.0,>=3.0->cohere) (1.3.1)\n",
            "Requirement already satisfied: attrs>=17.3.0 in /usr/local/lib/python3.10/dist-packages (from aiohttp<4.0,>=3.0->cohere) (23.2.0)\n",
            "Requirement already satisfied: frozenlist>=1.1.1 in /usr/local/lib/python3.10/dist-packages (from aiohttp<4.0,>=3.0->cohere) (1.4.1)\n",
            "Requirement already satisfied: multidict<7.0,>=4.5 in /usr/local/lib/python3.10/dist-packages (from aiohttp<4.0,>=3.0->cohere) (6.0.5)\n",
            "Requirement already satisfied: yarl<2.0,>=1.0 in /usr/local/lib/python3.10/dist-packages (from aiohttp<4.0,>=3.0->cohere) (1.9.4)\n",
            "Requirement already satisfied: async-timeout<5.0,>=4.0 in /usr/local/lib/python3.10/dist-packages (from aiohttp<4.0,>=3.0->cohere) (4.0.3)\n",
            "Requirement already satisfied: zipp>=0.5 in /usr/local/lib/python3.10/dist-packages (from importlib_metadata<7.0,>=6.0->cohere) (3.17.0)\n",
            "Requirement already satisfied: charset-normalizer<4,>=2 in /usr/local/lib/python3.10/dist-packages (from requests<3.0.0,>=2.25.0->cohere) (3.3.2)\n",
            "Requirement already satisfied: idna<4,>=2.5 in /usr/local/lib/python3.10/dist-packages (from requests<3.0.0,>=2.25.0->cohere) (3.6)\n",
            "Requirement already satisfied: certifi>=2017.4.17 in /usr/local/lib/python3.10/dist-packages (from requests<3.0.0,>=2.25.0->cohere) (2024.2.2)\n",
            "Installing collected packages: importlib_metadata, fastavro, backoff, cohere\n",
            "  Attempting uninstall: importlib_metadata\n",
            "    Found existing installation: importlib_metadata 7.0.2\n",
            "    Uninstalling importlib_metadata-7.0.2:\n",
            "      Successfully uninstalled importlib_metadata-7.0.2\n",
            "Successfully installed backoff-2.2.1 cohere-4.53 fastavro-1.9.4 importlib_metadata-6.11.0\n"
          ]
        }
      ],
      "source": [
        "\n",
        "!pip install langchain\n",
        "!pip install langchain-community\n",
        "!pip install cohere"
      ]
    },
    {
      "cell_type": "markdown",
      "source": [
        "# Homework 6: Use Cohere along with LangChain/FAISS to implement simple RAG over a pdf document."
      ],
      "metadata": {
        "id": "AC0lNog5qyb6"
      }
    },
    {
      "cell_type": "code",
      "source": [
        "# Get Cohere key from Colab\n",
        "from google.colab import userdata\n",
        "cohere_key = userdata.get('cohere_key')\n",
        "# Save to an env variable\n",
        "import os\n",
        "os.environ[\"COHERE_API_KEY\"] = cohere_key"
      ],
      "metadata": {
        "id": "KINtq81WiWAn"
      },
      "execution_count": 3,
      "outputs": []
    },
    {
      "cell_type": "code",
      "source": [
        "!wget -O alphabet_10k.pdf \"https://abc.xyz/assets/investor/static/pdf/20230203_alphabet_10K.pdf\""
      ],
      "metadata": {
        "colab": {
          "base_uri": "https://localhost:8080/"
        },
        "id": "ak2i5cJIih0G",
        "outputId": "e239f79b-5b97-4cd8-cef8-2d140389b906"
      },
      "execution_count": 6,
      "outputs": [
        {
          "output_type": "stream",
          "name": "stdout",
          "text": [
            "--2024-03-11 21:53:38--  https://abc.xyz/assets/investor/static/pdf/20230203_alphabet_10K.pdf\n",
            "Resolving abc.xyz (abc.xyz)... 74.125.134.113, 74.125.134.138, 74.125.134.100, ...\n",
            "Connecting to abc.xyz (abc.xyz)|74.125.134.113|:443... connected.\n",
            "HTTP request sent, awaiting response... 200 OK\n",
            "Length: 897814 (877K) [application/pdf]\n",
            "Saving to: ‘alphabet_10k.pdf’\n",
            "\n",
            "alphabet_10k.pdf    100%[===================>] 876.77K  --.-KB/s    in 0.01s   \n",
            "\n",
            "2024-03-11 21:53:38 (88.7 MB/s) - ‘alphabet_10k.pdf’ saved [897814/897814]\n",
            "\n"
          ]
        }
      ]
    },
    {
      "cell_type": "code",
      "source": [
        "!pip install pypdf\n",
        "!pip install faiss-cpu"
      ],
      "metadata": {
        "colab": {
          "base_uri": "https://localhost:8080/"
        },
        "id": "qar1RVWJj-b5",
        "outputId": "ed9f3dd8-127b-4d41-b5a3-1c2f3fd50b9a"
      },
      "execution_count": 7,
      "outputs": [
        {
          "output_type": "stream",
          "name": "stdout",
          "text": [
            "Collecting pypdf\n",
            "  Downloading pypdf-4.1.0-py3-none-any.whl (286 kB)\n",
            "\u001b[?25l     \u001b[90m━━━━━━━━━━━━━━━━━━━━━━━━━━━━━━━━━━━━━━━━\u001b[0m \u001b[32m0.0/286.1 kB\u001b[0m \u001b[31m?\u001b[0m eta \u001b[36m-:--:--\u001b[0m\r\u001b[2K     \u001b[91m━━━━━━━━━━━━━━━━━━━━━\u001b[0m\u001b[90m╺\u001b[0m\u001b[90m━━━━━━━━━━━━━━━━━━\u001b[0m \u001b[32m153.6/286.1 kB\u001b[0m \u001b[31m4.4 MB/s\u001b[0m eta \u001b[36m0:00:01\u001b[0m\r\u001b[2K     \u001b[90m━━━━━━━━━━━━━━━━━━━━━━━━━━━━━━━━━━━━━━━━\u001b[0m \u001b[32m286.1/286.1 kB\u001b[0m \u001b[31m4.9 MB/s\u001b[0m eta \u001b[36m0:00:00\u001b[0m\n",
            "\u001b[?25hInstalling collected packages: pypdf\n",
            "Successfully installed pypdf-4.1.0\n",
            "Collecting faiss-cpu\n",
            "  Downloading faiss_cpu-1.8.0-cp310-cp310-manylinux_2_17_x86_64.manylinux2014_x86_64.whl (27.0 MB)\n",
            "\u001b[2K     \u001b[90m━━━━━━━━━━━━━━━━━━━━━━━━━━━━━━━━━━━━━━━━\u001b[0m \u001b[32m27.0/27.0 MB\u001b[0m \u001b[31m32.5 MB/s\u001b[0m eta \u001b[36m0:00:00\u001b[0m\n",
            "\u001b[?25hRequirement already satisfied: numpy in /usr/local/lib/python3.10/dist-packages (from faiss-cpu) (1.25.2)\n",
            "Installing collected packages: faiss-cpu\n",
            "Successfully installed faiss-cpu-1.8.0\n"
          ]
        }
      ]
    },
    {
      "cell_type": "code",
      "source": [
        "# Setup Documents to Index\n",
        "from langchain.document_loaders import PyPDFLoader\n",
        "from langchain.text_splitter import CharacterTextSplitter\n",
        "\n",
        "pdf_path = \"alphabet_10k.pdf\"\n",
        "loader = PyPDFLoader(file_path = pdf_path)\n",
        "documents = loader.load()\n",
        "text_splitter = CharacterTextSplitter(chunk_size=1500, chunk_overlap=50,separator=\"\\n\")\n",
        "docs = text_splitter.split_documents(documents=documents)\n",
        "print(len(docs))"
      ],
      "metadata": {
        "colab": {
          "base_uri": "https://localhost:8080/"
        },
        "id": "e7-l6ZIPleBH",
        "outputId": "4cc8e33e-5fc8-4ec1-eca9-9ea3af7d03a1"
      },
      "execution_count": 9,
      "outputs": [
        {
          "output_type": "stream",
          "name": "stdout",
          "text": [
            "262\n"
          ]
        }
      ]
    },
    {
      "cell_type": "code",
      "source": [
        "from langchain.vectorstores import FAISS\n",
        "from langchain_community.embeddings import CohereEmbeddings\n",
        "\n",
        "embeddings = CohereEmbeddings(model=\"embed-english-light-v3.0\")\n",
        "vectorstore = FAISS.from_documents(docs,embeddings)\n",
        "vectorstore.save_local(\"faiss_index_alphabet10k\")"
      ],
      "metadata": {
        "id": "ac0PIJZVmVOM"
      },
      "execution_count": 11,
      "outputs": []
    },
    {
      "cell_type": "code",
      "source": [
        "#Lets load the saved embeddings and do some RAG (Persisting the vector store and loading it again for learning purposes)\n",
        "myvectorstore = FAISS.load_local(\"faiss_index_alphabet10k\", embeddings,allow_dangerous_deserialization=True)"
      ],
      "metadata": {
        "id": "MlPgD9UBnJS3"
      },
      "execution_count": 13,
      "outputs": []
    },
    {
      "cell_type": "code",
      "source": [
        "# Now, lets use Langchain to do RAG\n",
        "from langchain.chains import RetrievalQA\n",
        "from langchain_community.chat_models import ChatCohere\n",
        "\n",
        "qa = RetrievalQA.from_chain_type(llm=ChatCohere(), chain_type=\"stuff\", retriever= myvectorstore.as_retriever())"
      ],
      "metadata": {
        "id": "b4l3cdUyn0Eq"
      },
      "execution_count": 15,
      "outputs": []
    },
    {
      "cell_type": "code",
      "source": [
        "qa.invoke(\"What is the outlook for Alphabet?\")"
      ],
      "metadata": {
        "colab": {
          "base_uri": "https://localhost:8080/"
        },
        "id": "1g4yMyB_oiye",
        "outputId": "ee1766a9-f951-442e-c760-567fa9bc74cb"
      },
      "execution_count": 18,
      "outputs": [
        {
          "output_type": "execute_result",
          "data": {
            "text/plain": [
              "{'query': 'What is the outlook for Alphabet?',\n",
              " 'result': 'As of my knowledge cutoff date of January 2023, the outlook for Alphabet Inc. (the parent company of Google) appears positive, with several analysts and investors expressing optimism about its future prospects. Alphabet has been benefiting from its robust advertising business, dominant position in the search engine market, and successful ventures into cloud computing.\\n\\nAccording to financial analysts, Alphabet\\'s diverse business segments, including its core advertising business, cloud services, and hardware products, are expected to drive its growth in the coming years. The company\\'s focus on innovation and its continued investments in research and development are seen as key factors for long-term success.\\n\\nHowever, there are also challenges to consider. Regulatory concerns, especially related to data privacy and antitrust issues, remain a potential headache for the company. Alphabet has faced increased scrutiny and fines from regulators worldwide. Additionally, competition from other tech giants like Amazon and Apple in the advertising and technology spaces keeps the company on its toes.\\n\\nThe company\\'s recent decision to restructure its business units into an umbrella organization called \"Alphabet Holdings\" has also been interpreted by some as a positive move toward more transparency and accountability. This restructuring could enable better focus on individual business segments and streamline operations.\\n\\nThe outlook for any publicly traded company is subject to change based on market conditions and various external factors. As such, it\\'s recommended to consider multiple sources of information and expert opinions when forming a judgment about Alphabet\\'s future trajectory. Consultations with financial advisors or professionals are advisable for more tailored and up-to-date guidance on investment decisions.'}"
            ]
          },
          "metadata": {},
          "execution_count": 18
        }
      ]
    },
    {
      "cell_type": "code",
      "source": [
        "qa.invoke(\"According to the document, what is the outlook for Alphabet?\")"
      ],
      "metadata": {
        "colab": {
          "base_uri": "https://localhost:8080/"
        },
        "id": "tOE-ChJiotde",
        "outputId": "1080d36e-f964-434f-8f99-e2040cf446d4"
      },
      "execution_count": 19,
      "outputs": [
        {
          "output_type": "execute_result",
          "data": {
            "text/plain": [
              "{'query': 'According to the document, what is the outlook for Alphabet?',\n",
              " 'result': \"The outlook for Alphabet Inc. (the parent company of Google) is not explicitly mentioned in the provided document. However, some insights and implications can be drawn from the information presented.\\n\\nThe document highlights Alphabet's diverse business portfolio and its focus on innovative and growth-oriented ventures. With a strong emphasis on technology and a global presence, Alphabet appears to have a positive outlook in terms of its potential for growth and market reach.\\n\\nAlphabet's core business, Google, continues to dominate the search engine market and has a strong position in the digital advertising industry. The company's investment in artificial intelligence and machine learning can be beneficial in enhancing its services and developing new revenue streams.\\n\\nThe mention of management's commitment to disciplined investment and focus on long-term growth strategies indicates a thoughtful approach to expanding the business. Alphabet's exploration of new areas, such as cloud services, healthcare, and smart home devices, could pave the way for additional sources of revenue.\\n\\nFurthermore, Alphabet's commitment to sustainability and its efforts to address environmental challenges are likely to resonate well with socially responsible investors. The company's focus on diversifying its workforce and improving workplace diversity can also be viewed as a positive factor.\\n\\nHowever, it's important to note that the document does not provide any specific financial projections or targets for Alphabet. Additionally, the regulatory and competitive landscapes in which Alphabet operates are dynamic and may present challenges.\\n\\nOverall, the information presented suggests a positive and growth-oriented outlook for Alphabet, but it's advisable to consider this in conjunction with other sources and factors for a more comprehensive understanding of the company's future prospects.\"}"
            ]
          },
          "metadata": {},
          "execution_count": 19
        }
      ]
    },
    {
      "cell_type": "code",
      "source": [
        "qa.invoke(\"What are the risks for Alphabet?\")"
      ],
      "metadata": {
        "colab": {
          "base_uri": "https://localhost:8080/"
        },
        "id": "ILpTXlWCpFnH",
        "outputId": "a4961140-c68e-4b26-cd26-5a720e082a62"
      },
      "execution_count": 20,
      "outputs": [
        {
          "output_type": "execute_result",
          "data": {
            "text/plain": [
              "{'query': 'What are the risks for Alphabet?',\n",
              " 'result': \"As one of the world's leading technology companies, Alphabet Inc. (formerly Google Inc.) faces a variety of risks that can potentially impact its operations and financial performance. Here are some key risks the company faces:\\n\\n1. Regulatory and Legal Risks: Alphabet, like other tech giants, faces increased scrutiny from regulatory bodies worldwide. Risks related to data privacy, antitrust laws, and consumer protection regulations could potentially harm the company's operations and financial health. Legal actions and regulatory investigations can result in significant fines, changes to business practices, and reputational damage.\\n\\n2. Competition: The technology industry is highly competitive, and Alphabet competes with innovative and established companies across its various business segments. Competition from companies like Apple, Microsoft, Amazon, and Facebook can erode Alphabet's market share and put pressure on its profit margins.\\n\\n3. Advertising Revenue Dependency: A significant portion of Alphabet's revenue is derived from advertising. Any significant changes in the digital advertising market, such as shifts in consumer behavior, regulatory restrictions, or the emergence of new platforms, could reduce the company's advertising income.\\n\\n4. Technology and Innovation Risks: Alphabet relies on its ability to innovate and stay at the forefront of technology trends. As technology evolves rapidly, the company must continuously invest in research and development to maintain its competitive edge. If Alphabet fails to adapt quickly enough to new technologies or fails to deliver compelling new products, its financial performance and market position could be affected.\\n\\n5. Privacy and Data Security: With Alphabet's extensive data collection practices, protecting user privacy and securing vast amounts of data is crucial. Data breaches, privacy violations, or misuse of user information could lead to significant reputational damage, legal consequences, and potential loss of user trust.\\n\\n6. Economic and Market Conditions: Changes in economic conditions, including fluctuations in consumer spending and advertising budgets, can impact Alphabet's financial performance. Negative economic trends or market downturns could affect the company's revenue and profitability.\\n\\n7. Dependency on Key Personnel: Alphabet has benefited greatly from the leadership and vision of its key executives, including Larry Page and Sergey Brin. The departure of these key individuals could introduce management and strategic risks to the company.\\n\\n8. International Operations: As Alphabet operates globally, it faces risks associated with international expansion, including cultural, political, and regulatory differences, currency fluctuations, and local competition.\\n\\n9. Integration Risks: Alphabet has made numerous acquisitions over the years. Integrating these acquired businesses into its existing operations while maintaining operational efficiency and cultural harmony can be challenging.\\n\\n10. Dependency on Third-Party Partners: Alphabet's business relies on partnerships with third-party companies for distribution, hardware manufacturing, and other key functions. The performance and reliability of these partners can impact Alphabet's own operations and financial results.\\n\\nIt's worth noting that Alphabet, being a large and established company, has extensive resources and a strong track record of managing these risks. The company has dedicated teams focused on risk management, ensuring compliance, and fostering innovation in a responsible manner.\"}"
            ]
          },
          "metadata": {},
          "execution_count": 20
        }
      ]
    },
    {
      "cell_type": "code",
      "source": [
        "qa.invoke(\"Conscisely describe how Alphabet makes money\")"
      ],
      "metadata": {
        "colab": {
          "base_uri": "https://localhost:8080/"
        },
        "id": "dta1m_5SpO1G",
        "outputId": "96785299-33c9-41f6-ebd4-8985b0bee756"
      },
      "execution_count": 21,
      "outputs": [
        {
          "output_type": "execute_result",
          "data": {
            "text/plain": [
              "{'query': 'Conscisely describe how Alphabet makes money',\n",
              " 'result': \"Alphabet makes money primarily through its ownership of Google and its advertising business. Google dominates the global search engine market and uses this position to sell ads that appear in search results and on websites that use Google's advertising services. Additionally, Google's YouTube is a significant revenue stream through its advertising model. Alphabet also earns from cloud computing services, hardware sales, and other smaller businesses like digital mapping and investment arms. The company's diverse business ventures, including those in healthcare and autonomous driving, also contribute to its revenue streams. Alphabet's main revenue source is still advertising, which it places strategically using data analysis.\"}"
            ]
          },
          "metadata": {},
          "execution_count": 21
        }
      ]
    },
    {
      "cell_type": "code",
      "source": [
        "qa.invoke(\"Conscisely describe how Alphabet is improving advertising\")"
      ],
      "metadata": {
        "colab": {
          "base_uri": "https://localhost:8080/"
        },
        "id": "kFV1-g8Spb8X",
        "outputId": "02567ac2-7104-4eff-cfb2-fad98fd8a3cc"
      },
      "execution_count": 22,
      "outputs": [
        {
          "output_type": "execute_result",
          "data": {
            "text/plain": [
              "{'query': 'Conscisely describe how Alphabet is improving advertising',\n",
              " 'result': \"Alphabet, Google's parent company, is improving advertising through its various business ventures. Here are some ways they are doing this:\\n\\n1. Google's Search and Maps Services: By providing accurate and detailed location data, Alphabet can offer targeted ads to users based on their physical proximity to businesses, enhancing local advertising.\\n\\n2. Google Ads: The company continues to refine its Google Ads platform, enabling businesses to create and manage targeted online ads shown across Google's extensive network. New features and improvements make advertising more effective and measurable.\\n\\n3. YouTube: Alphabet leverages YouTube's immense popularity to offer visual advertising options. Companies can place ads before, during, or alongside videos, reaching a vast audience. Targeting options allow ads to be directed at specific demographics or interests.\\n\\n4. Machine Learning and AI: Alphabet's machine learning and AI capabilities help advertisers target their audiences more accurately. Predictive modeling and pattern recognition enhance ad placement and improve the relevance of displayed ads.\\n\\n5. Cloud Services: Alphabet's cloud platform provides scalable and reliable cloud computing services, enabling businesses to manage and analyze large datasets for targeted advertising. This helps advertisers gain deeper insights into consumer behavior.\\n\\n6. Android and Mobile Advertising: With Android's widespread usage, Alphabet offers mobile advertising options, allowing advertisers to reach a large mobile audience. Location-based targeting and personalized ad campaigns are possible through devices running this operating system.\\n\\n7. Display & Video 360: This platform enables advertisers to plan, buy, and measure digital advertising campaigns across various inventory sources, including display, video, and TV. It simplifies the process and provides a holistic view of campaigns.\\n\\n8. Data Analysis and Measurement: Alphabet's tools help advertisers measure the effectiveness of their campaigns, providing insights into consumer actions and ad performance. This enables businesses to optimize their advertising strategies.\\n\\nBy leveraging its technologies and platforms, Alphabet continues to enhance the precision, targeting, and effectiveness of advertising, benefiting businesses and helping them connect with their target audiences more efficiently.\"}"
            ]
          },
          "metadata": {},
          "execution_count": 22
        }
      ]
    },
    {
      "cell_type": "markdown",
      "source": [],
      "metadata": {
        "id": "yDnJBzmhqw6j"
      }
    }
  ]
}